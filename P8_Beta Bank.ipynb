{
 "cells": [
  {
   "cell_type": "markdown",
   "metadata": {},
   "source": [
    "# Beta Bank"
   ]
  },
  {
   "cell_type": "markdown",
   "metadata": {},
   "source": [
    "## Inicialización"
   ]
  },
  {
   "cell_type": "code",
   "execution_count": 1,
   "metadata": {},
   "outputs": [],
   "source": [
    "#importamos las librerias necesarias\n",
    "import pandas as pd\n",
    "import numpy as np\n",
    "from sklearn.model_selection import train_test_split\n",
    "from sklearn.tree import DecisionTreeClassifier\n",
    "from sklearn.ensemble import RandomForestClassifier\n",
    "from sklearn.linear_model import LogisticRegression\n",
    "from sklearn.metrics import f1_score, roc_auc_score, accuracy_score\n",
    "from sklearn.utils import shuffle\n",
    "from sklearn.dummy import DummyClassifier\n",
    "from sklearn.preprocessing import StandardScaler"
   ]
  },
  {
   "cell_type": "markdown",
   "metadata": {},
   "source": [
    "## Cargar datos"
   ]
  },
  {
   "cell_type": "code",
   "execution_count": 2,
   "metadata": {},
   "outputs": [],
   "source": [
    "#cargar el archivo\n",
    "try:\n",
    "    user = pd.read_csv('/datasets/Churn.csv')\n",
    "except:\n",
    "    user = pd.read_csv(r'\\datasets\\Churn.csv')"
   ]
  },
  {
   "cell_type": "code",
   "execution_count": 3,
   "metadata": {},
   "outputs": [
    {
     "name": "stdout",
     "output_type": "stream",
     "text": [
      "<class 'pandas.core.frame.DataFrame'>\n",
      "RangeIndex: 10000 entries, 0 to 9999\n",
      "Data columns (total 14 columns):\n",
      " #   Column           Non-Null Count  Dtype  \n",
      "---  ------           --------------  -----  \n",
      " 0   RowNumber        10000 non-null  int64  \n",
      " 1   CustomerId       10000 non-null  int64  \n",
      " 2   Surname          10000 non-null  object \n",
      " 3   CreditScore      10000 non-null  int64  \n",
      " 4   Geography        10000 non-null  object \n",
      " 5   Gender           10000 non-null  object \n",
      " 6   Age              10000 non-null  int64  \n",
      " 7   Tenure           9091 non-null   float64\n",
      " 8   Balance          10000 non-null  float64\n",
      " 9   NumOfProducts    10000 non-null  int64  \n",
      " 10  HasCrCard        10000 non-null  int64  \n",
      " 11  IsActiveMember   10000 non-null  int64  \n",
      " 12  EstimatedSalary  10000 non-null  float64\n",
      " 13  Exited           10000 non-null  int64  \n",
      "dtypes: float64(3), int64(8), object(3)\n",
      "memory usage: 1.1+ MB\n"
     ]
    },
    {
     "data": {
      "text/html": [
       "<div>\n",
       "<style scoped>\n",
       "    .dataframe tbody tr th:only-of-type {\n",
       "        vertical-align: middle;\n",
       "    }\n",
       "\n",
       "    .dataframe tbody tr th {\n",
       "        vertical-align: top;\n",
       "    }\n",
       "\n",
       "    .dataframe thead th {\n",
       "        text-align: right;\n",
       "    }\n",
       "</style>\n",
       "<table border=\"1\" class=\"dataframe\">\n",
       "  <thead>\n",
       "    <tr style=\"text-align: right;\">\n",
       "      <th></th>\n",
       "      <th>RowNumber</th>\n",
       "      <th>CustomerId</th>\n",
       "      <th>Surname</th>\n",
       "      <th>CreditScore</th>\n",
       "      <th>Geography</th>\n",
       "      <th>Gender</th>\n",
       "      <th>Age</th>\n",
       "      <th>Tenure</th>\n",
       "      <th>Balance</th>\n",
       "      <th>NumOfProducts</th>\n",
       "      <th>HasCrCard</th>\n",
       "      <th>IsActiveMember</th>\n",
       "      <th>EstimatedSalary</th>\n",
       "      <th>Exited</th>\n",
       "    </tr>\n",
       "  </thead>\n",
       "  <tbody>\n",
       "    <tr>\n",
       "      <th>0</th>\n",
       "      <td>1</td>\n",
       "      <td>15634602</td>\n",
       "      <td>Hargrave</td>\n",
       "      <td>619</td>\n",
       "      <td>France</td>\n",
       "      <td>Female</td>\n",
       "      <td>42</td>\n",
       "      <td>2.0</td>\n",
       "      <td>0.00</td>\n",
       "      <td>1</td>\n",
       "      <td>1</td>\n",
       "      <td>1</td>\n",
       "      <td>101348.88</td>\n",
       "      <td>1</td>\n",
       "    </tr>\n",
       "    <tr>\n",
       "      <th>1</th>\n",
       "      <td>2</td>\n",
       "      <td>15647311</td>\n",
       "      <td>Hill</td>\n",
       "      <td>608</td>\n",
       "      <td>Spain</td>\n",
       "      <td>Female</td>\n",
       "      <td>41</td>\n",
       "      <td>1.0</td>\n",
       "      <td>83807.86</td>\n",
       "      <td>1</td>\n",
       "      <td>0</td>\n",
       "      <td>1</td>\n",
       "      <td>112542.58</td>\n",
       "      <td>0</td>\n",
       "    </tr>\n",
       "    <tr>\n",
       "      <th>2</th>\n",
       "      <td>3</td>\n",
       "      <td>15619304</td>\n",
       "      <td>Onio</td>\n",
       "      <td>502</td>\n",
       "      <td>France</td>\n",
       "      <td>Female</td>\n",
       "      <td>42</td>\n",
       "      <td>8.0</td>\n",
       "      <td>159660.80</td>\n",
       "      <td>3</td>\n",
       "      <td>1</td>\n",
       "      <td>0</td>\n",
       "      <td>113931.57</td>\n",
       "      <td>1</td>\n",
       "    </tr>\n",
       "    <tr>\n",
       "      <th>3</th>\n",
       "      <td>4</td>\n",
       "      <td>15701354</td>\n",
       "      <td>Boni</td>\n",
       "      <td>699</td>\n",
       "      <td>France</td>\n",
       "      <td>Female</td>\n",
       "      <td>39</td>\n",
       "      <td>1.0</td>\n",
       "      <td>0.00</td>\n",
       "      <td>2</td>\n",
       "      <td>0</td>\n",
       "      <td>0</td>\n",
       "      <td>93826.63</td>\n",
       "      <td>0</td>\n",
       "    </tr>\n",
       "    <tr>\n",
       "      <th>4</th>\n",
       "      <td>5</td>\n",
       "      <td>15737888</td>\n",
       "      <td>Mitchell</td>\n",
       "      <td>850</td>\n",
       "      <td>Spain</td>\n",
       "      <td>Female</td>\n",
       "      <td>43</td>\n",
       "      <td>2.0</td>\n",
       "      <td>125510.82</td>\n",
       "      <td>1</td>\n",
       "      <td>1</td>\n",
       "      <td>1</td>\n",
       "      <td>79084.10</td>\n",
       "      <td>0</td>\n",
       "    </tr>\n",
       "  </tbody>\n",
       "</table>\n",
       "</div>"
      ],
      "text/plain": [
       "   RowNumber  CustomerId   Surname  CreditScore Geography  Gender  Age  \\\n",
       "0          1    15634602  Hargrave          619    France  Female   42   \n",
       "1          2    15647311      Hill          608     Spain  Female   41   \n",
       "2          3    15619304      Onio          502    France  Female   42   \n",
       "3          4    15701354      Boni          699    France  Female   39   \n",
       "4          5    15737888  Mitchell          850     Spain  Female   43   \n",
       "\n",
       "   Tenure    Balance  NumOfProducts  HasCrCard  IsActiveMember  \\\n",
       "0     2.0       0.00              1          1               1   \n",
       "1     1.0   83807.86              1          0               1   \n",
       "2     8.0  159660.80              3          1               0   \n",
       "3     1.0       0.00              2          0               0   \n",
       "4     2.0  125510.82              1          1               1   \n",
       "\n",
       "   EstimatedSalary  Exited  \n",
       "0        101348.88       1  \n",
       "1        112542.58       0  \n",
       "2        113931.57       1  \n",
       "3         93826.63       0  \n",
       "4         79084.10       0  "
      ]
     },
     "execution_count": 3,
     "metadata": {},
     "output_type": "execute_result"
    }
   ],
   "source": [
    "user.info()\n",
    "user.head()"
   ]
  },
  {
   "cell_type": "markdown",
   "metadata": {},
   "source": [
    "## Preparar datos"
   ]
  },
  {
   "cell_type": "code",
   "execution_count": 4,
   "metadata": {},
   "outputs": [
    {
     "data": {
      "text/plain": [
       "<AxesSubplot:ylabel='Frequency'>"
      ]
     },
     "execution_count": 4,
     "metadata": {},
     "output_type": "execute_result"
    },
    {
     "data": {
      "image/png": "[encoded data removed]",
      "text/plain": [
       "<Figure size 432x288 with 1 Axes>"
      ]
     },
     "metadata": {
      "needs_background": "light"
     },
     "output_type": "display_data"
    }
   ],
   "source": [
    "#visualizamos \n",
    "user['Tenure'].plot(kind='hist')"
   ]
  },
  {
   "cell_type": "markdown",
   "metadata": {},
   "source": [
    "Se elegirá la mediana para reemplazar los valores ausentes de la columna *Tenure*."
   ]
  },
  {
   "cell_type": "code",
   "execution_count": 5,
   "metadata": {},
   "outputs": [
    {
     "data": {
      "text/plain": [
       "5.0"
      ]
     },
     "execution_count": 5,
     "metadata": {},
     "output_type": "execute_result"
    }
   ],
   "source": [
    "#encontramos la mediana\n",
    "ternure_median = user['Tenure'].median()\n",
    "ternure_median"
   ]
  },
  {
   "cell_type": "code",
   "execution_count": 6,
   "metadata": {},
   "outputs": [],
   "source": [
    "#rellenamos ausentes por mediana\n",
    "user['Tenure'] = user['Tenure'].fillna(ternure_median)"
   ]
  },
  {
   "cell_type": "code",
   "execution_count": 7,
   "metadata": {},
   "outputs": [],
   "source": [
    "#Se elimina algunas columnas que no son parte del analisis\n",
    "user = user.drop(['RowNumber', 'CustomerId', 'Surname'], axis=1)"
   ]
  },
  {
   "cell_type": "code",
   "execution_count": 8,
   "metadata": {},
   "outputs": [
    {
     "name": "stdout",
     "output_type": "stream",
     "text": [
      "<class 'pandas.core.frame.DataFrame'>\n",
      "RangeIndex: 10000 entries, 0 to 9999\n",
      "Data columns (total 11 columns):\n",
      " #   Column           Non-Null Count  Dtype  \n",
      "---  ------           --------------  -----  \n",
      " 0   CreditScore      10000 non-null  int64  \n",
      " 1   Geography        10000 non-null  object \n",
      " 2   Gender           10000 non-null  object \n",
      " 3   Age              10000 non-null  int64  \n",
      " 4   Tenure           10000 non-null  float64\n",
      " 5   Balance          10000 non-null  float64\n",
      " 6   NumOfProducts    10000 non-null  int64  \n",
      " 7   HasCrCard        10000 non-null  int64  \n",
      " 8   IsActiveMember   10000 non-null  int64  \n",
      " 9   EstimatedSalary  10000 non-null  float64\n",
      " 10  Exited           10000 non-null  int64  \n",
      "dtypes: float64(3), int64(6), object(2)\n",
      "memory usage: 859.5+ KB\n"
     ]
    }
   ],
   "source": [
    "user.info()"
   ]
  },
  {
   "cell_type": "markdown",
   "metadata": {},
   "source": [
    "## Segmentación de datos"
   ]
  },
  {
   "cell_type": "code",
   "execution_count": 9,
   "metadata": {},
   "outputs": [],
   "source": [
    "#encodificar datos trampa\n",
    "user_ohe = pd.get_dummies(user, drop_first=True)\n",
    "\n",
    "#identificar el feature y target\n",
    "features = user_ohe.drop(['Exited'], axis=1)\n",
    "target = user_ohe['Exited']"
   ]
  },
  {
   "cell_type": "code",
   "execution_count": 10,
   "metadata": {},
   "outputs": [],
   "source": [
    "#segmentamos los datos, utilizando el 20% para el testeo de datos y el resto para el entrenamiento y validación en los \n",
    "#diferentes modelos \n",
    "train_valid, test, train_valid_target, test_target  = train_test_split(features, target, test_size = 0.20,\n",
    "                                                                     random_state = 12345)\n"
   ]
  },
  {
   "cell_type": "code",
   "execution_count": 11,
   "metadata": {},
   "outputs": [],
   "source": [
    "#segmentamos los datos, utilizando el 60% para el entrenamiento de datos y el resto para validación en los \n",
    "#diferentes modelos \n",
    "train, valid, train_target, valid_target  = train_test_split(train_valid, train_valid_target, test_size = 0.25,\n",
    "                                                                     random_state = 12345)\n"
   ]
  },
  {
   "cell_type": "code",
   "execution_count": 12,
   "metadata": {},
   "outputs": [
    {
     "name": "stderr",
     "output_type": "stream",
     "text": [
      "/tmp/ipykernel_208/614207456.py:6: SettingWithCopyWarning: \n",
      "A value is trying to be set on a copy of a slice from a DataFrame.\n",
      "Try using .loc[row_indexer,col_indexer] = value instead\n",
      "\n",
      "See the caveats in the documentation: https://pandas.pydata.org/pandas-docs/stable/user_guide/indexing.html#returning-a-view-versus-a-copy\n",
      "  train[numeric] = scaler.transform(train[numeric])\n",
      "/opt/conda/lib/python3.9/site-packages/pandas/core/indexing.py:1738: SettingWithCopyWarning: \n",
      "A value is trying to be set on a copy of a slice from a DataFrame.\n",
      "Try using .loc[row_indexer,col_indexer] = value instead\n",
      "\n",
      "See the caveats in the documentation: https://pandas.pydata.org/pandas-docs/stable/user_guide/indexing.html#returning-a-view-versus-a-copy\n",
      "  self._setitem_single_column(loc, value[:, i].tolist(), pi)\n",
      "/tmp/ipykernel_208/614207456.py:7: SettingWithCopyWarning: \n",
      "A value is trying to be set on a copy of a slice from a DataFrame.\n",
      "Try using .loc[row_indexer,col_indexer] = value instead\n",
      "\n",
      "See the caveats in the documentation: https://pandas.pydata.org/pandas-docs/stable/user_guide/indexing.html#returning-a-view-versus-a-copy\n",
      "  valid[numeric] = scaler.transform(valid[numeric])\n",
      "/opt/conda/lib/python3.9/site-packages/pandas/core/indexing.py:1738: SettingWithCopyWarning: \n",
      "A value is trying to be set on a copy of a slice from a DataFrame.\n",
      "Try using .loc[row_indexer,col_indexer] = value instead\n",
      "\n",
      "See the caveats in the documentation: https://pandas.pydata.org/pandas-docs/stable/user_guide/indexing.html#returning-a-view-versus-a-copy\n",
      "  self._setitem_single_column(loc, value[:, i].tolist(), pi)\n",
      "/tmp/ipykernel_208/614207456.py:8: SettingWithCopyWarning: \n",
      "A value is trying to be set on a copy of a slice from a DataFrame.\n",
      "Try using .loc[row_indexer,col_indexer] = value instead\n",
      "\n",
      "See the caveats in the documentation: https://pandas.pydata.org/pandas-docs/stable/user_guide/indexing.html#returning-a-view-versus-a-copy\n",
      "  test[numeric] = scaler.transform(test[numeric])\n",
      "/opt/conda/lib/python3.9/site-packages/pandas/core/indexing.py:1738: SettingWithCopyWarning: \n",
      "A value is trying to be set on a copy of a slice from a DataFrame.\n",
      "Try using .loc[row_indexer,col_indexer] = value instead\n",
      "\n",
      "See the caveats in the documentation: https://pandas.pydata.org/pandas-docs/stable/user_guide/indexing.html#returning-a-view-versus-a-copy\n",
      "  self._setitem_single_column(loc, value[:, i].tolist(), pi)\n"
     ]
    }
   ],
   "source": [
    "#Estandarizar \n",
    "numeric = ['CreditScore', 'Age', 'Tenure', 'Balance', 'EstimatedSalary']\n",
    "\n",
    "scaler = StandardScaler()\n",
    "scaler.fit(train[numeric])\n",
    "train[numeric] = scaler.transform(train[numeric])\n",
    "valid[numeric] = scaler.transform(valid[numeric])\n",
    "test[numeric] = scaler.transform(test[numeric])"
   ]
  },
  {
   "cell_type": "markdown",
   "metadata": {},
   "source": [
    "## Modelos de estudio sin equilibrio de clases"
   ]
  },
  {
   "cell_type": "markdown",
   "metadata": {},
   "source": [
    "### Regresión Logística"
   ]
  },
  {
   "cell_type": "code",
   "execution_count": 13,
   "metadata": {},
   "outputs": [
    {
     "name": "stdout",
     "output_type": "stream",
     "text": [
      "F1: 0.30131826741996237\n",
      "AUC-ROC: 0.7703773054064493\n",
      "Accuracy: 0.8145\n"
     ]
    }
   ],
   "source": [
    "#Se ingresa los parametros al modelo de Regresión Logistica\n",
    "model = LogisticRegression(random_state=12345, solver='liblinear')\n",
    "model.fit(train, train_target)\n",
    "predicted_valid = model.predict(valid)\n",
    "proba_valid = model.predict_proba(valid)\n",
    "proba_one_valid = proba_valid[:,1]\n",
    "\n",
    "\n",
    "print('F1:', f1_score(valid_target, predicted_valid))\n",
    "print('AUC-ROC:', roc_auc_score(valid_target, proba_one_valid))\n",
    "print('Accuracy:', accuracy_score(valid_target, predicted_valid))\n"
   ]
  },
  {
   "cell_type": "markdown",
   "metadata": {},
   "source": [
    "### Bosque aleatorio"
   ]
  },
  {
   "cell_type": "code",
   "execution_count": 14,
   "metadata": {},
   "outputs": [
    {
     "name": "stdout",
     "output_type": "stream",
     "text": [
      "F1: 0.5432098765432098\n",
      "AUC-ROC: 0.7980421827984848\n",
      "Accuracy: 0.852\n"
     ]
    }
   ],
   "source": [
    "#Se ingresa los parametros al modelo de Bosque aleatorio\n",
    "model=RandomForestClassifier(random_state=12345, n_estimators=9)\n",
    "model.fit(train, train_target)\n",
    "predicted_valid = model.predict(valid)\n",
    "proba_valid = model.predict_proba(valid)\n",
    "proba_one_valid = proba_valid[:,1]\n",
    "\n",
    "\n",
    "print('F1:', f1_score(valid_target, predicted_valid))\n",
    "print('AUC-ROC:', roc_auc_score(valid_target, proba_one_valid))\n",
    "print('Accuracy:', accuracy_score(valid_target, predicted_valid))\n"
   ]
  },
  {
   "cell_type": "markdown",
   "metadata": {},
   "source": [
    "### Árbol de decisión"
   ]
  },
  {
   "cell_type": "code",
   "execution_count": 15,
   "metadata": {},
   "outputs": [
    {
     "name": "stdout",
     "output_type": "stream",
     "text": [
      "F1: 0.48387096774193544\n",
      "AUC-ROC: 0.6809951694353532\n",
      "Accuracy: 0.792\n"
     ]
    }
   ],
   "source": [
    "#Se ingresa los parametros al modelo de Arbol de decision\n",
    "model=DecisionTreeClassifier(random_state=12345)\n",
    "model.fit(train, train_target)\n",
    "predicted_valid = model.predict(valid)\n",
    "proba_valid = model.predict_proba(valid)\n",
    "proba_one_valid = proba_valid[:,1]\n",
    "\n",
    "\n",
    "print('F1:', f1_score(valid_target, predicted_valid))\n",
    "print('AUC-ROC:', roc_auc_score(valid_target, proba_one_valid))\n",
    "print('Accuracy:', accuracy_score(valid_target, predicted_valid))\n"
   ]
  },
  {
   "cell_type": "markdown",
   "metadata": {},
   "source": [
    "El modelo Bosque aleatorio brinda un mejor valor de *F1* que los otros modelos de Arbol y Regresión."
   ]
  },
  {
   "cell_type": "markdown",
   "metadata": {},
   "source": [
    "## Modelos de estudio con equilibrio de clases"
   ]
  },
  {
   "cell_type": "markdown",
   "metadata": {},
   "source": [
    "### Regresión Logística"
   ]
  },
  {
   "cell_type": "code",
   "execution_count": 16,
   "metadata": {},
   "outputs": [
    {
     "name": "stdout",
     "output_type": "stream",
     "text": [
      "F1: 0.4741532976827095\n",
      "AUC-ROC: 0.7725581328810607\n",
      "Accuracy: 0.705\n"
     ]
    }
   ],
   "source": [
    "# Usamos el parametro class_weight para la Regresion Logistica\n",
    "model = LogisticRegression(random_state=12345, solver='liblinear', class_weight='balanced')\n",
    "model.fit(train, train_target)\n",
    "predicted_valid = model.predict(valid)\n",
    "proba_valid = model.predict_proba(valid)\n",
    "proba_one_valid = proba_valid[:,1]\n",
    "\n",
    "\n",
    "print('F1:', f1_score(valid_target, predicted_valid))\n",
    "print('AUC-ROC:', roc_auc_score(valid_target, proba_one_valid))\n",
    "print('Accuracy:', accuracy_score(valid_target, predicted_valid))\n"
   ]
  },
  {
   "cell_type": "code",
   "execution_count": 17,
   "metadata": {},
   "outputs": [
    {
     "name": "stdout",
     "output_type": "stream",
     "text": [
      "Threshold: 0.0 F1: 0.32705980761187786\n",
      "Threshold: 0.03 F1: 0.32705980761187786\n",
      "Threshold: 0.06 F1: 0.3273336123901214\n",
      "Threshold: 0.09 F1: 0.3290924512298558\n",
      "Threshold: 0.12 F1: 0.33477508650519033\n",
      "Threshold: 0.15 F1: 0.3464991023339318\n",
      "Threshold: 0.18 F1: 0.3595714951094551\n",
      "Threshold: 0.21 F1: 0.3686274509803922\n",
      "Threshold: 0.24 F1: 0.38315356959424757\n",
      "Threshold: 0.27 F1: 0.39548629768941435\n",
      "Threshold: 0.3 F1: 0.4132043255549231\n",
      "Threshold: 0.32999999999999996 F1: 0.4314903846153846\n",
      "Threshold: 0.36 F1: 0.43561819346572717\n",
      "Threshold: 0.39 F1: 0.4445973847212663\n",
      "Threshold: 0.42 F1: 0.46494464944649444\n",
      "Threshold: 0.44999999999999996 F1: 0.47189231987331753\n",
      "Threshold: 0.48 F1: 0.46978723404255324\n",
      "Threshold: 0.51 F1: 0.4799270072992701\n",
      "Threshold: 0.54 F1: 0.48282630029440626\n",
      "Threshold: 0.57 F1: 0.48283261802575106\n",
      "Threshold: 0.6 F1: 0.482837528604119\n",
      "Threshold: 0.63 F1: 0.4907521578298397\n",
      "Threshold: 0.6599999999999999 F1: 0.4847682119205299\n",
      "Threshold: 0.69 F1: 0.46393210749646396\n",
      "Threshold: 0.72 F1: 0.4381520119225037\n",
      "Threshold: 0.75 F1: 0.3884430176565008\n",
      "Threshold: 0.78 F1: 0.33743409490333914\n",
      "Threshold: 0.8099999999999999 F1: 0.2840690978886756\n",
      "Threshold: 0.84 F1: 0.21205821205821201\n",
      "Threshold: 0.87 F1: 0.13870246085011187\n",
      "Threshold: 0.8999999999999999 F1: 0.07194244604316546\n",
      "Threshold: 0.9299999999999999 F1: 0.024999999999999998\n",
      "Threshold: 0.96 F1: 0.010178117048346057\n",
      "Threshold: 0.99 F1: 0.0\n"
     ]
    }
   ],
   "source": [
    "# Utilizamos particiones\n",
    "model = LogisticRegression(random_state=12345, solver='liblinear', class_weight='balanced')\n",
    "model.fit(train, train_target)\n",
    "\n",
    "proba_valid = model.predict_proba(valid)\n",
    "proba_one_valid = proba_valid[:,1]\n",
    "\n",
    "for threshold in np.arange(0, 1, 0.03):\n",
    "    predicted_valid = proba_one_valid > threshold\n",
    "    print('Threshold:', threshold, 'F1:', f1_score(valid_target, predicted_valid))"
   ]
  },
  {
   "cell_type": "markdown",
   "metadata": {},
   "source": [
    "Se observa una decadencia desde Threshold: 0.63, aun sigue por debajo de 0.59."
   ]
  },
  {
   "cell_type": "code",
   "execution_count": 18,
   "metadata": {},
   "outputs": [],
   "source": [
    "# Sobremuestreo\n",
    "\n",
    "#Funcion upsample\n",
    "def upsample(features, target, repeat):\n",
    "    features_zeros = features[target == 0]\n",
    "    features_ones = features[target == 1]\n",
    "    target_zeros = target[target == 0]\n",
    "    target_ones = target[target == 1]\n",
    "\n",
    "    features_upsampled = pd.concat([features_zeros] + [features_ones] * repeat)\n",
    "    target_upsampled = pd.concat([target_zeros] + [target_ones] * repeat)\n",
    "\n",
    "    features_upsampled, target_upsampled = shuffle(features_upsampled, target_upsampled, random_state=12345)\n",
    "\n",
    "    return features_upsampled, target_upsampled\n"
   ]
  },
  {
   "cell_type": "code",
   "execution_count": 19,
   "metadata": {},
   "outputs": [
    {
     "name": "stdout",
     "output_type": "stream",
     "text": [
      "i: 1 F1= 0.30131826741996237\n",
      "i: 2 F1= 0.4839572192513369\n",
      "i: 3 F1= 0.47991543340380555\n",
      "i: 4 F1= 0.4771126760563381\n",
      "i: 5 F1= 0.47049689440993786\n",
      "i: 6 F1= 0.45084269662921356\n",
      "i: 7 F1= 0.4362934362934363\n",
      "i: 8 F1= 0.4268585131894484\n",
      "i: 9 F1= 0.41533180778032036\n",
      "i: 10 F1= 0.40484048404840484\n"
     ]
    }
   ],
   "source": [
    "# Movemos en un rango para encontrar un optimo F1\n",
    "for i in range(1, 11):\n",
    "    features_upsampled, target_upsampled = upsample(train, train_target, i)\n",
    "    model=LogisticRegression(random_state=12345, solver='liblinear')\n",
    "    model.fit(features_upsampled, target_upsampled)\n",
    "    predicted_valid=model.predict(valid)\n",
    "\n",
    "    print('i:', i, 'F1=', f1_score(valid_target, predicted_valid))"
   ]
  },
  {
   "cell_type": "markdown",
   "metadata": {},
   "source": [
    "El modelo de Regresion Lineal no brindo un *f1_score* óptimo."
   ]
  },
  {
   "cell_type": "markdown",
   "metadata": {},
   "source": [
    "### Árbol de decisión"
   ]
  },
  {
   "cell_type": "code",
   "execution_count": 20,
   "metadata": {},
   "outputs": [
    {
     "name": "stdout",
     "output_type": "stream",
     "text": [
      "F1: 0.4708926261319535\n",
      "AUC-ROC: 0.6705861689123997\n",
      "Accuracy: 0.7955\n"
     ]
    }
   ],
   "source": [
    "# Usamos el parametro class_weight para el Arbol de decisión\n",
    "model=DecisionTreeClassifier(random_state=12345, class_weight='balanced')\n",
    "model.fit(train, train_target)\n",
    "predicted_valid = model.predict(valid)\n",
    "proba_valid = model.predict_proba(valid)\n",
    "proba_one_valid = proba_valid[:,1]\n",
    "\n",
    "\n",
    "print('F1:', f1_score(valid_target, predicted_valid))\n",
    "print('AUC-ROC:', roc_auc_score(valid_target, proba_one_valid))\n",
    "print('Accuracy:', accuracy_score(valid_target, predicted_valid))\n"
   ]
  },
  {
   "cell_type": "code",
   "execution_count": 21,
   "metadata": {},
   "outputs": [
    {
     "name": "stdout",
     "output_type": "stream",
     "text": [
      "El mejor valor para F1 en el conjunto de validación donde depth=6 : 0.5587044534412956\n"
     ]
    }
   ],
   "source": [
    "#valores iniciales\n",
    "best_f1 = 0\n",
    "best_depth = 0\n",
    "\n",
    "#Recorremos el n_estimators en un rango de numeros en el modelo de Bosque aleatorio\n",
    "#Para encontrar el mejor F1\n",
    "for depth in range(1, 10):\n",
    "    features_upsampled, target_upsampled = upsample(train, train_target, depth)\n",
    "    model=DecisionTreeClassifier(random_state=12345, max_depth=depth, class_weight='balanced')\n",
    "    model.fit(features_upsampled, target_upsampled)\n",
    "    predicted_valid=model.predict(valid)\n",
    "\n",
    "    if f1_score(valid_target, predicted_valid) > best_f1:\n",
    "        best_f1 = f1_score(valid_target, predicted_valid)\n",
    "        best_depth = depth\n",
    "        \n",
    "print('El mejor valor para F1 en el conjunto de validación donde depth={} : {}'.format(best_depth, best_f1))\n",
    "    "
   ]
  },
  {
   "cell_type": "code",
   "execution_count": 22,
   "metadata": {},
   "outputs": [
    {
     "name": "stdout",
     "output_type": "stream",
     "text": [
      "Threshold: 0.0 F1: 0.4708926261319535\n",
      "Threshold: 0.2 F1: 0.4708926261319535\n",
      "Threshold: 0.4 F1: 0.4708926261319535\n",
      "Threshold: 0.6000000000000001 F1: 0.4708926261319535\n",
      "Threshold: 0.8 F1: 0.4708926261319535\n"
     ]
    }
   ],
   "source": [
    "# Utilizamos particiones\n",
    "model = DecisionTreeClassifier(random_state=12345, class_weight='balanced')\n",
    "model.fit(train, train_target)\n",
    "\n",
    "proba_valid = model.predict_proba(valid)\n",
    "proba_one_valid = proba_valid[:,1]\n",
    "\n",
    "for threshold in np.arange(0, 1, 0.2):\n",
    "    predicted_valid = proba_one_valid > threshold\n",
    "    print('Threshold:', threshold, 'F1:', f1_score(valid_target, predicted_valid))"
   ]
  },
  {
   "cell_type": "markdown",
   "metadata": {},
   "source": [
    "El valor de *f1_score* utilizando sobremuestreo en el modelo de Arbol de decision es de 0.55, se logro un aumento con respecto al modelo anterior."
   ]
  },
  {
   "cell_type": "markdown",
   "metadata": {},
   "source": [
    "### Bosque aleatorio"
   ]
  },
  {
   "cell_type": "code",
   "execution_count": 23,
   "metadata": {},
   "outputs": [
    {
     "name": "stdout",
     "output_type": "stream",
     "text": [
      "F1: 0.553323029366306\n",
      "AUC-ROC: 0.8058078042468912\n",
      "Accuracy: 0.8555\n"
     ]
    }
   ],
   "source": [
    "# Usamos el parametro class_weight para el Bosque aleatorio\n",
    "model=RandomForestClassifier(random_state=12345, n_estimators=9, class_weight='balanced')\n",
    "model.fit(train, train_target)\n",
    "predicted_valid = model.predict(valid)\n",
    "proba_valid = model.predict_proba(valid)\n",
    "proba_one_valid = proba_valid[:,1]\n",
    "\n",
    "\n",
    "print('F1:', f1_score(valid_target, predicted_valid))\n",
    "print('AUC-ROC:', roc_auc_score(valid_target, proba_one_valid))\n",
    "print('Accuracy:', accuracy_score(valid_target, predicted_valid))\n"
   ]
  },
  {
   "cell_type": "code",
   "execution_count": 24,
   "metadata": {},
   "outputs": [
    {
     "name": "stdout",
     "output_type": "stream",
     "text": [
      "El mejor valor para F1 en el conjunto de validación donde n_estimators=26 : 0.6027777777777777\n"
     ]
    }
   ],
   "source": [
    "#valores iniciales\n",
    "best_f1 = 0\n",
    "best_est = 0\n",
    "\n",
    "#Recorremos el n_estimators en un rango de numeros en el modelo de Bosque aleatorio\n",
    "#Para encontrar el mejor F1\n",
    "for est in range(1, 45):\n",
    "    features_upsampled, target_upsampled = upsample(train, train_target, est)\n",
    "    model=RandomForestClassifier(random_state=12345, n_estimators=est, class_weight='balanced')\n",
    "    model.fit(features_upsampled, target_upsampled)\n",
    "    predicted_valid=model.predict(valid)\n",
    "\n",
    "    if f1_score(valid_target, predicted_valid) > best_f1:\n",
    "        best_f1 = f1_score(valid_target, predicted_valid)\n",
    "        best_est = est\n",
    "        \n",
    "print('El mejor valor para F1 en el conjunto de validación donde n_estimators={} : {}'.format(best_est, best_f1))\n",
    "    "
   ]
  },
  {
   "cell_type": "code",
   "execution_count": 25,
   "metadata": {},
   "outputs": [
    {
     "name": "stdout",
     "output_type": "stream",
     "text": [
      "Threshold: 0.0 F1: 0.3409490333919157\n",
      "Threshold: 0.02 F1: 0.37120470127326155\n",
      "Threshold: 0.04 F1: 0.40410588870880604\n",
      "Threshold: 0.06 F1: 0.4376498800959233\n",
      "Threshold: 0.08 F1: 0.4578469520103761\n",
      "Threshold: 0.1 F1: 0.48202959830866804\n",
      "Threshold: 0.12 F1: 0.5007564296520424\n",
      "Threshold: 0.14 F1: 0.5144694533762059\n",
      "Threshold: 0.16 F1: 0.533795493934142\n",
      "Threshold: 0.18 F1: 0.5547309833024119\n",
      "Threshold: 0.2 F1: 0.5669599217986315\n",
      "Threshold: 0.22 F1: 0.5823045267489713\n",
      "Threshold: 0.24 F1: 0.5830653804930332\n",
      "Threshold: 0.26 F1: 0.5841694537346711\n",
      "Threshold: 0.28 F1: 0.591907514450867\n",
      "Threshold: 0.3 F1: 0.5961070559610706\n",
      "Threshold: 0.32 F1: 0.5939086294416243\n",
      "Threshold: 0.34 F1: 0.5981554677206852\n",
      "Threshold: 0.36 F1: 0.595108695652174\n",
      "Threshold: 0.38 F1: 0.5935302390998594\n",
      "Threshold: 0.4 F1: 0.5890804597701149\n",
      "Threshold: 0.42 F1: 0.5748148148148148\n",
      "Threshold: 0.44 F1: 0.5623100303951368\n",
      "Threshold: 0.46 F1: 0.5571205007824725\n",
      "Threshold: 0.48 F1: 0.5532591414944356\n",
      "Threshold: 0.5 F1: 0.5469255663430421\n",
      "Threshold: 0.52 F1: 0.5406301824212273\n",
      "Threshold: 0.54 F1: 0.5281090289608177\n",
      "Threshold: 0.56 F1: 0.5268630849220104\n",
      "Threshold: 0.58 F1: 0.5244755244755245\n",
      "Threshold: 0.6 F1: 0.5098039215686274\n",
      "Threshold: 0.62 F1: 0.4990958408679928\n",
      "Threshold: 0.64 F1: 0.48529411764705876\n",
      "Threshold: 0.66 F1: 0.4562737642585552\n",
      "Threshold: 0.68 F1: 0.43629343629343625\n",
      "Threshold: 0.7000000000000001 F1: 0.4165029469548134\n",
      "Threshold: 0.72 F1: 0.40159045725646125\n",
      "Threshold: 0.74 F1: 0.3699186991869919\n",
      "Threshold: 0.76 F1: 0.3471074380165289\n",
      "Threshold: 0.78 F1: 0.32067510548523204\n",
      "Threshold: 0.8 F1: 0.26258205689277897\n",
      "Threshold: 0.8200000000000001 F1: 0.23555555555555557\n",
      "Threshold: 0.84 F1: 0.2054794520547945\n",
      "Threshold: 0.86 F1: 0.1639344262295082\n",
      "Threshold: 0.88 F1: 0.1111111111111111\n",
      "Threshold: 0.9 F1: 0.05955334987593052\n",
      "Threshold: 0.92 F1: 0.030226700251889168\n",
      "Threshold: 0.9400000000000001 F1: 0.010178117048346057\n",
      "Threshold: 0.96 F1: 0.0\n",
      "Threshold: 0.98 F1: 0.0\n"
     ]
    }
   ],
   "source": [
    "# Utilizamos particiones\n",
    "model = RandomForestClassifier(random_state=12345, class_weight='balanced')\n",
    "model.fit(train, train_target)\n",
    "\n",
    "proba_valid = model.predict_proba(valid)\n",
    "proba_one_valid = proba_valid[:,1]\n",
    "\n",
    "for threshold in np.arange(0, 1, 0.02):\n",
    "    predicted_valid = proba_one_valid > threshold\n",
    "    print('Threshold:', threshold, 'F1:', f1_score(valid_target, predicted_valid))\n",
    "    "
   ]
  },
  {
   "cell_type": "markdown",
   "metadata": {},
   "source": [
    "En el modelo de Bosque aleatorio el threshold 0.3, el *f1_score* es de 0.6."
   ]
  },
  {
   "cell_type": "markdown",
   "metadata": {},
   "source": [
    "## Modelo Bosque aleatorio en conjunto de prueba"
   ]
  },
  {
   "cell_type": "code",
   "execution_count": 26,
   "metadata": {},
   "outputs": [
    {
     "name": "stdout",
     "output_type": "stream",
     "text": [
      "F1: 0.6237054085155351\n",
      "AUC-ROC: 0.5070940473900803\n",
      "Accuracy: 0.6755\n"
     ]
    }
   ],
   "source": [
    "#prueba final\n",
    "proba_test = model.predict_proba(test)\n",
    "proba_one_test = proba_test[:,1]\n",
    "predicted_test = proba_one_test > 0.3\n",
    "\n",
    "\n",
    "print('F1:', f1_score(test_target, predicted_test))\n",
    "print('AUC-ROC:', roc_auc_score(valid_target, proba_one_test))\n",
    "print('Accuracy:', accuracy_score(valid_target, predicted_test))\n"
   ]
  },
  {
   "cell_type": "markdown",
   "metadata": {},
   "source": [
    "Se muestra un *f1_score* de 0.62."
   ]
  },
  {
   "cell_type": "markdown",
   "metadata": {},
   "source": [
    "## Conclusiones\n",
    "\n",
    "1. Se completo con la mediana los valores ausentes de la columna *Tenure* en lugar de la media, al observase extremos con mayor cantidad.\n",
    "\n",
    "2. El modelo de Regresión Logística mostró el valor de *f1_score* por debajo de lo solicitado que es de 0.59, al igual que el modelo de Arbol de decisión.\n",
    "\n",
    "3. En el modelo de Bosque aleatorio nos brindo un *f1_score* de acuerdo a lo solicitado, esto cuando se tiene un umbral de 0.3."
   ]
  },
  {
   "cell_type": "code",
   "execution_count": null,
   "metadata": {},
   "outputs": [],
   "source": []
  }
 ],
 "metadata": {
  "kernelspec": {
   "display_name": "Python 3 (ipykernel)",
   "language": "python",
   "name": "python3"
  },
  "language_info": {
   "codemirror_mode": {
    "name": "ipython",
    "version": 3
   },
   "file_extension": ".py",
   "mimetype": "text/x-python",
   "name": "python",
   "nbconvert_exporter": "python",
   "pygments_lexer": "ipython3",
   "version": "3.9.5"
  },
  "toc": {
   "base_numbering": 1,
   "nav_menu": {},
   "number_sections": true,
   "sideBar": true,
   "skip_h1_title": true,
   "title_cell": "Table of Contents",
   "title_sidebar": "Contents",
   "toc_cell": false,
   "toc_position": {
    "height": "calc(100% - 180px)",
    "left": "10px",
    "top": "150px",
    "width": "247.6px"
   },
   "toc_section_display": true,
   "toc_window_display": true
  }
 },
 "nbformat": 4,
 "nbformat_minor": 2
}
